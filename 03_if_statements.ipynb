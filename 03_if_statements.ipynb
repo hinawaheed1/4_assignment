{
  "nbformat": 4,
  "nbformat_minor": 0,
  "metadata": {
    "colab": {
      "provenance": [],
      "authorship_tag": "ABX9TyNu3kw255j81KaMFxVtzQY4",
      "include_colab_link": true
    },
    "kernelspec": {
      "name": "python3",
      "display_name": "Python 3"
    },
    "language_info": {
      "name": "python"
    }
  },
  "cells": [
    {
      "cell_type": "markdown",
      "metadata": {
        "id": "view-in-github",
        "colab_type": "text"
      },
      "source": [
        "<a href=\"https://colab.research.google.com/github/hinawaheed1/4_assignment/blob/main/03_if_statements.ipynb\" target=\"_parent\"><img src=\"https://colab.research.google.com/assets/colab-badge.svg\" alt=\"Open In Colab\"/></a>"
      ]
    },
    {
      "cell_type": "code",
      "execution_count": null,
      "metadata": {
        "colab": {
          "base_uri": "https://localhost:8080/"
        },
        "id": "ErUEqZAAQbk2",
        "outputId": "57da9c3d-d25b-4471-f8c5-28439ed14da3"
      },
      "outputs": [
        {
          "output_type": "stream",
          "name": "stdout",
          "text": [
            "01_print_events\n",
            "Here is 20 even numbers are:  0\n",
            "Here is 20 even numbers are:  2\n",
            "Here is 20 even numbers are:  4\n",
            "Here is 20 even numbers are:  6\n",
            "Here is 20 even numbers are:  8\n",
            "Here is 20 even numbers are:  10\n",
            "Here is 20 even numbers are:  12\n",
            "Here is 20 even numbers are:  14\n",
            "Here is 20 even numbers are:  16\n",
            "Here is 20 even numbers are:  18\n",
            "Here is 20 even numbers are:  20\n",
            "Here is 20 even numbers are:  22\n",
            "Here is 20 even numbers are:  24\n",
            "Here is 20 even numbers are:  26\n",
            "Here is 20 even numbers are:  28\n",
            "Here is 20 even numbers are:  30\n",
            "Here is 20 even numbers are:  32\n",
            "Here is 20 even numbers are:  34\n",
            "Here is 20 even numbers are:  36\n",
            "Here is 20 even numbers are:  38\n",
            "Here is 20 even numbers are:  40\n",
            "Here is 20 even numbers are:  42\n",
            "Here is 20 even numbers are:  44\n",
            "Here is 20 even numbers are:  46\n",
            "Here is 20 even numbers are:  48\n",
            "Here is 20 even numbers are:  50\n",
            "Here is 20 even numbers are:  52\n",
            "Here is 20 even numbers are:  54\n",
            "Here is 20 even numbers are:  56\n",
            "Here is 20 even numbers are:  58\n",
            "Here is 20 even numbers are:  60\n",
            "Here is 20 even numbers are:  62\n",
            "Here is 20 even numbers are:  64\n",
            "Here is 20 even numbers are:  66\n",
            "Here is 20 even numbers are:  68\n",
            "Here is 20 even numbers are:  70\n",
            "Here is 20 even numbers are:  72\n",
            "Here is 20 even numbers are:  74\n",
            "Here is 20 even numbers are:  76\n",
            "Here is 20 even numbers are:  78\n"
          ]
        }
      ],
      "source": [
        "print(\"01_print_events\")\n",
        "def even():\n",
        "    for i in range(40):\n",
        "     print(\"Here is 20 even numbers are: \",i * 2)\n",
        "\n",
        "if __name__ == \"__main__\":\n",
        "    even()"
      ]
    },
    {
      "cell_type": "code",
      "source": [
        "print(\"02_international_voting_age\")\n",
        "\n",
        "peturksbouipo: int = 16\n",
        "Stanlau: int = 25\n",
        "Mayengua: int = 48\n",
        "\n",
        "def main():\n",
        "    age: int = int(input(\"How old are you? \"))\n",
        "\n",
        "    if age >= peturksbouipo:\n",
        "        print(f\"Your age is {age}, you are eligible to vote in Peturksbouipo\")\n",
        "    else:\n",
        "        print(f\"Your age is {age}, you are NOT eligible to vote in Peturksbouipo\")\n",
        "\n",
        "    if age >= Stanlau:\n",
        "        print(f\"Your age is {age}, you are eligible to vote in Stanlau\")\n",
        "    else:\n",
        "        print(f\"Your age is {age}, you are NOT eligible to vote in Stanlau\")\n",
        "\n",
        "    if age >= Mayengua:\n",
        "        print(f\"Your age is {age}, you are eligible to vote in Mayengua\")\n",
        "    else:\n",
        "        print(f\"Your age is {age}, you are NOT eligible to vote in Mayengua\")\n",
        "\n",
        "if __name__ == \"__main__\":\n",
        "    main()\n"
      ],
      "metadata": {
        "colab": {
          "base_uri": "https://localhost:8080/"
        },
        "id": "S0h931_M3zqN",
        "outputId": "051a539c-a6b8-4aa2-b383-cb8db91db71f"
      },
      "execution_count": null,
      "outputs": [
        {
          "output_type": "stream",
          "name": "stdout",
          "text": [
            "02_international_voting_age\n",
            "How old are you? 35\n",
            "Your age is 35, you are eligible to vote in Peturksbouipo\n",
            "Your age is 35, you are eligible to vote in Stanlau\n",
            "Your age is 35, you are NOT eligible to vote in Mayengua\n"
          ]
        }
      ]
    },
    {
      "cell_type": "code",
      "source": [
        "print(\"03_leap_year\")\n",
        "\n",
        "def leap_year():\n",
        "    year: int = int(input(\"Enter a year: \"))\n",
        "\n",
        "    if year % 4 == 0:\n",
        "        if year % 100 == 0:\n",
        "            if year % 400 == 0:\n",
        "                print(f\"{year} is a leap year\")\n",
        "            else:\n",
        "                print(f\"{year} is not a leap year\")\n",
        "        else:\n",
        "            print(f\"{year} is a leap year\")\n",
        "    else:\n",
        "        print(f\"{year} is not a leap year\")\n",
        "\n",
        "if __name__ == \"__main__\":\n",
        "    leap_year()\n"
      ],
      "metadata": {
        "colab": {
          "base_uri": "https://localhost:8080/"
        },
        "id": "CClOmRXk7vjo",
        "outputId": "2c98a83d-09d5-42c5-e3b1-5c7a6e0bb048"
      },
      "execution_count": null,
      "outputs": [
        {
          "output_type": "stream",
          "name": "stdout",
          "text": [
            "03_leap_year\n",
            "Enter a year: 2035\n",
            "2035 is not a leap year\n"
          ]
        }
      ]
    },
    {
      "cell_type": "code",
      "source": [
        "print(\"04_tall_enough_to_ride\")\n",
        "\n",
        "min_height: int = 50\n",
        "\n",
        "def main():\n",
        "    user: int = int(input(\"How tall are you? \"))\n",
        "    if user >= min_height:\n",
        "        print(\"You are tall enough to ride\")\n",
        "    else:\n",
        "        print(\"You are not tall enough to ride,My be next year.\")\n",
        "\n",
        "if __name__ == \"__main__\":\n",
        "    main()\n"
      ],
      "metadata": {
        "colab": {
          "base_uri": "https://localhost:8080/"
        },
        "id": "krQmwHYw_8WI",
        "outputId": "fe2efa23-33dc-4ce5-fac9-0ca74f774c50"
      },
      "execution_count": null,
      "outputs": [
        {
          "output_type": "stream",
          "name": "stdout",
          "text": [
            "04_tall_enough_to_ride\n",
            "How tall are you? 45\n",
            "You are not tall enough to ride,My be next year.\n"
          ]
        }
      ]
    },
    {
      "cell_type": "code",
      "source": [
        "import random\n",
        "def main():\n",
        "  for i in range(10):\n",
        "    num:list[int] = random.randint(1,100)\n",
        "    print(num)\n",
        "\n",
        "if __name__ == \"__main__\":\n",
        "    main()\n",
        "\n",
        "\n"
      ],
      "metadata": {
        "id": "qXcRI9xNCNIh",
        "colab": {
          "base_uri": "https://localhost:8080/"
        },
        "outputId": "40b99b53-ad86-46d7-e621-e101c8a2ef09"
      },
      "execution_count": 11,
      "outputs": [
        {
          "output_type": "stream",
          "name": "stdout",
          "text": [
            "100\n",
            "16\n",
            "60\n",
            "97\n",
            "68\n",
            "73\n",
            "44\n",
            "88\n",
            "11\n",
            "38\n"
          ]
        }
      ]
    }
  ]
}