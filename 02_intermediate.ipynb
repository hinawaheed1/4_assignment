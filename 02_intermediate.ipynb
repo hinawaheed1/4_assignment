{
  "nbformat": 4,
  "nbformat_minor": 0,
  "metadata": {
    "colab": {
      "provenance": [],
      "authorship_tag": "ABX9TyM5PWI3PAKSeoH14NfUBIxQ",
      "include_colab_link": true
    },
    "kernelspec": {
      "name": "python3",
      "display_name": "Python 3"
    },
    "language_info": {
      "name": "python"
    }
  },
  "cells": [
    {
      "cell_type": "markdown",
      "metadata": {
        "id": "view-in-github",
        "colab_type": "text"
      },
      "source": [
        "<a href=\"https://colab.research.google.com/github/hinawaheed1/4_assignment/blob/main/02_intermediate.ipynb\" target=\"_parent\"><img src=\"https://colab.research.google.com/assets/colab-badge.svg\" alt=\"Open In Colab\"/></a>"
      ]
    },
    {
      "cell_type": "code",
      "execution_count": null,
      "metadata": {
        "colab": {
          "base_uri": "https://localhost:8080/"
        },
        "id": "ixGnMflW6rSE",
        "outputId": "99749b8c-9206-4ec6-9c1a-4996d5111d44"
      },
      "outputs": [
        {
          "output_type": "stream",
          "name": "stdout",
          "text": [
            "High Low Game\n",
            "welcom to the High Low Game\n",
            "***************\n",
            "Round 2\n",
            "your number is 58\n",
            "Do you think your number is higher or lower than the computer's number? higher\n",
            "youre right! The computer's number was 18\n",
            "Round 2\n",
            "your number is 20\n",
            "Do you think your number is higher or lower than the computer's number? lower\n",
            "youre right! The computer's number was 97\n",
            "Round 2\n",
            "your number is 82\n",
            "Do you think your number is higher or lower than the computer's number? higher\n",
            "youre right! The computer's number was 9\n",
            "Round 2\n",
            "your number is 72\n",
            "Do you think your number is higher or lower than the computer's number? lower\n",
            " That'sIncorrect.The computer's number was 61\n",
            "your score is now 3\n",
            "\n",
            "Thanks for playing!\n",
            "Round 2\n",
            "your number is 6\n",
            "Do you think your number is higher or lower than the computer's number? higher\n",
            " That'sIncorrect.The computer's number was 13\n",
            "your score is now 3\n",
            "\n",
            "Thanks for playing!\n"
          ]
        }
      ],
      "source": [
        "import random\n",
        "print(\"High Low Game\")\n",
        "\n",
        "round = 5\n",
        "\n",
        "def main():\n",
        "  print(\"welcom to the High Low Game\")\n",
        "  print(\"***************\")\n",
        "\n",
        "  your_score = 0\n",
        "\n",
        "  for i in range(round):\n",
        "    print(\"Round\", 1 + 1)\n",
        "\n",
        "    computer_number : int = random. randint( 1,100)\n",
        "    your_number:int = random.randint(1,100)\n",
        "    print(\"your number is\" , your_number)\n",
        "\n",
        "    choice:str = input(\"Do you think your number is higher or lower than the computer's number? \")\n",
        "    higher_and_correct:bool = choice == \"higher\" and your_number > computer_number\n",
        "    lower_and_correct:bool = choice == \"lower\" and your_number < computer_number\n",
        "\n",
        "    if higher_and_correct or lower_and_correct:\n",
        "      print(\"youre right! The computer's number was\", computer_number)\n",
        "      your_score += 1\n",
        "\n",
        "    else:\n",
        "      print(\" That\\'sIncorrect.The computer\\'s number was\" ,computer_number)\n",
        "\n",
        "\n",
        "      print(\"your score is now\",your_score)\n",
        "      print()\n",
        "\n",
        "      print(\"Thanks for playing!\")\n",
        "\n",
        "if __name__ == \"__main__\":\n",
        "  main()\n"
      ]
    },
    {
      "cell_type": "code",
      "source": [],
      "metadata": {
        "id": "IHiz9RZytH6w"
      },
      "execution_count": null,
      "outputs": []
    },
    {
      "cell_type": "code",
      "source": [
        "print(\"Planetary Weight Calcuiator\")\n",
        "\n",
        "def main():\n",
        "  print(\"Welcome to the Planetary Weight Calculator\")\n",
        "  print(\"******************************************\")\n",
        "\n",
        "  earth_weight = float(input(\"Enter your weight on Earth: \"))\n",
        "\n",
        "  gravity_ratios = {\n",
        "      \"Marcury\":0.38,\n",
        "      \"Venus\":0.91,\n",
        "      \"Mars\":0.38,\n",
        "      \"Jupiter\":2.34,\n",
        "      \"Saturn\":1.06,\n",
        "      \"Uranus\":0.92,\n",
        "      \"Neptune\":1.19,\n",
        "  }\n",
        "  print(\"\\n select a planet\")\n",
        "  for planet in gravity_ratios:\n",
        "    print(f'-(planet)')\n",
        "\n",
        "    planet_choice = input(\"Enter the name of the planet: \").title()\n",
        "\n",
        "    if planet_choice in gravity_ratios:\n",
        "      new_weight = earth_weight * gravity_ratios[planet_choice]\n",
        "      print(f\"your weight_on_(planet_choice) is (new_weight:.2f)kg\")\n",
        "    else:\n",
        "      print(\"Invalid planet choice\")\n",
        "\n",
        "\n",
        "  if __name__ == \"__main__\":\n",
        "    main()\n",
        "\n",
        "\n"
      ],
      "metadata": {
        "id": "uQzZgvF-CMV4"
      },
      "execution_count": null,
      "outputs": []
    },
    {
      "cell_type": "code",
      "source": [
        "print(\"Planetary Weight Calculator\")\n",
        "\n",
        "def main():\n",
        "    print(\"Welcome to the Planetary Weight Calculator\")\n",
        "    print(\"******************************************\")\n",
        "\n",
        "    earth_weight = float(input(\"Enter your weight on Earth: \"))\n",
        "\n",
        "    gravity_ratios = {\n",
        "        \"Mercury\": 0.38,\n",
        "        \"Venus\": 0.91,\n",
        "        \"Mars\": 0.38,\n",
        "        \"Jupiter\": 2.34,\n",
        "        \"Saturn\": 1.06,\n",
        "        \"Uranus\": 0.92,\n",
        "        \"Neptune\": 1.19,\n",
        "    }\n",
        "\n",
        "    print(\"\\nSelect a planet:\")\n",
        "    for planet in gravity_ratios:\n",
        "        print(f\"- {planet}\")\n",
        "\n",
        "    planet_choice = input(\"Enter the name of the planet: \").title()\n",
        "\n",
        "    if planet_choice in gravity_ratios:\n",
        "        new_weight = earth_weight * gravity_ratios[planet_choice]\n",
        "        print(f\"Your weight on {planet_choice} is {new_weight:.2f} kg.\")\n",
        "    else:\n",
        "        print(\"Invalid planet choice.\")\n",
        "\n",
        "if __name__ == \"__main__\":\n",
        "    main()\n"
      ],
      "metadata": {
        "colab": {
          "base_uri": "https://localhost:8080/"
        },
        "id": "qJ_imbe7m4hv",
        "outputId": "d3054e76-c96f-427b-905c-03bd652dbda7"
      },
      "execution_count": null,
      "outputs": [
        {
          "output_type": "stream",
          "name": "stdout",
          "text": [
            "Planetary Weight Calculator\n",
            "Welcome to the Planetary Weight Calculator\n",
            "******************************************\n",
            "Enter your weight on Earth: 23\n",
            "\n",
            "Select a planet:\n",
            "- Mercury\n",
            "- Venus\n",
            "- Mars\n",
            "- Jupiter\n",
            "- Saturn\n",
            "- Uranus\n",
            "- Neptune\n",
            "Enter the name of the planet: mars\n",
            "Your weight on Mars is 8.74 kg.\n"
          ]
        }
      ]
    },
    {
      "cell_type": "code",
      "source": [
        "print(\"Lists and Dicts\")\n",
        "\n",
        "my_list = [\"apple\", \"banana\", \"cherry\", \"mango\", \"peach\"]\n",
        "\n",
        "def access_element(my_list, index):\n",
        "    if 0 <= index < len(my_list):\n",
        "        return f'Element at index {index}: {my_list[index]}'\n",
        "    return \"Index out of range\"\n",
        "\n",
        "def modify_element(my_list, index, new_value):\n",
        "    if 0 <= index < len(my_list):\n",
        "        old_value = my_list[index]\n",
        "        my_list[index] = new_value\n",
        "        return f'Element at index {index} modified to {new_value}'\n",
        "    return \"Index out of range\"\n",
        "\n",
        "def slice_list(my_list, start, end):\n",
        "    if 0 <= start < len(my_list) and 0 <= end <= len(my_list):\n",
        "        return f'Slice of the list: {my_list[start:end]}'\n",
        "    return \"Invalid slice indices!\"\n",
        "\n",
        "def list_game():\n",
        "    print(\"\\nWelcome to the list manipulation\")\n",
        "    my_list = [\"apple\", \"banana\", \"cherry\", \"mango\", \"peach\"]\n",
        "    while True:\n",
        "        print(\"\\nCurrent list:\", my_list)\n",
        "        print(\"Select an operation\")\n",
        "        print(\"1. Access Element\")\n",
        "        print(\"2. Modify Element\")\n",
        "        print(\"3. Slice List\")\n",
        "        print(\"4. Quit\")\n",
        "\n",
        "        choice = input(\"Enter your choice (1-4): \")\n",
        "        if choice == \"1\":\n",
        "            index = int(input(\"Enter the index of the element you want to access: \"))\n",
        "            print(access_element(my_list, index))\n",
        "        elif choice == \"2\":\n",
        "            index = int(input(\"Enter the index of the element you want to modify: \"))\n",
        "            new_value = input(\"Enter the new value for the element: \")\n",
        "            print(modify_element(my_list, index, new_value))\n",
        "        elif choice == \"3\":\n",
        "            start = int(input(\"Enter the start index of the slice: \"))\n",
        "            end = int(input(\"Enter the end index of the slice: \"))\n",
        "            print(slice_list(my_list, start, end))\n",
        "        elif choice == \"4\":\n",
        "            print(\"Exiting the game, Thanks for playing.\")\n",
        "            break\n",
        "        else:\n",
        "            print(\"Invalid choice. Please enter a number between 1 and 4.\")\n",
        "\n",
        "if __name__ == \"__main__\":\n",
        "    list_game()\n"
      ],
      "metadata": {
        "colab": {
          "base_uri": "https://localhost:8080/"
        },
        "id": "QJYJ90p3CT1d",
        "outputId": "32ced05c-797b-449d-bdb7-725b983370bf"
      },
      "execution_count": 5,
      "outputs": [
        {
          "output_type": "stream",
          "name": "stdout",
          "text": [
            "Lists and Dicts\n",
            "\n",
            "Welcome to the list manipulation\n",
            "\n",
            "Current list: ['apple', 'banana', 'cherry', 'mango', 'peach']\n",
            "Select an operation\n",
            "1. Access Element\n",
            "2. Modify Element\n",
            "3. Slice List\n",
            "4. Quit\n",
            "Enter your choice (1-4): s\n",
            "Invalid choice. Please enter a number between 1 and 4.\n",
            "\n",
            "Current list: ['apple', 'banana', 'cherry', 'mango', 'peach']\n",
            "Select an operation\n",
            "1. Access Element\n",
            "2. Modify Element\n",
            "3. Slice List\n",
            "4. Quit\n",
            "Enter your choice (1-4): 4\n",
            "Exiting the game, Thanks for playing.\n"
          ]
        }
      ]
    }
  ]
}