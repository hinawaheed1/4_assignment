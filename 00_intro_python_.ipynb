{
  "nbformat": 4,
  "nbformat_minor": 0,
  "metadata": {
    "colab": {
      "provenance": [],
      "authorship_tag": "ABX9TyPSL1rb15YOpQY6fabjLrx4",
      "include_colab_link": true
    },
    "kernelspec": {
      "name": "python3",
      "display_name": "Python 3"
    },
    "language_info": {
      "name": "python"
    }
  },
  "cells": [
    {
      "cell_type": "markdown",
      "metadata": {
        "id": "view-in-github",
        "colab_type": "text"
      },
      "source": [
        "<a href=\"https://colab.research.google.com/github/hinawaheed1/App-todo/blob/main/00_intro_python_.ipynb\" target=\"_parent\"><img src=\"https://colab.research.google.com/assets/colab-badge.svg\" alt=\"Open In Colab\"/></a>"
      ]
    },
    {
      "cell_type": "code",
      "source": [
        "print(\"02_agreement_bot\")\n",
        "def bot():\n",
        "  animal =str(input(\"What is your favorite animal?\"))\n",
        "  print(f'My favorite animal is also {animal}!')\n",
        "\n",
        "  if __name__ == '__main__':\n",
        "    bot()\n"
      ],
      "metadata": {
        "collapsed": true,
        "id": "jRSveqtlNY2X"
      },
      "execution_count": null,
      "outputs": []
    },
    {
      "source": [
        "print(\"02_agreement_bot\")\n",
        "\n",
        "def bot():\n",
        "\n",
        "    animal = str(input(\"What thair favorite animal is? \"))\n",
        "    print(f\"My favorite animal is also {animal}!\")\n",
        "\n",
        "\n",
        "if __name__ == \"__main__\":\n",
        "    bot()"
      ],
      "cell_type": "code",
      "metadata": {
        "colab": {
          "base_uri": "https://localhost:8080/"
        },
        "id": "FaCE496VUzgA",
        "outputId": "d07d7b1b-9c69-4988-cd03-37caec11f34c"
      },
      "execution_count": null,
      "outputs": [
        {
          "output_type": "stream",
          "name": "stdout",
          "text": [
            "02_agreement_bot\n",
            "What is your favorite animal? parrot\n",
            "My favorite animal is also parrot!\n"
          ]
        }
      ]
    },
    {
      "source": [
        "print(\"01_add_two_numbers.md\")\n",
        "\n",
        "\n",
        "def add():\n",
        "    print(\"This application for add two numbers\")\n",
        "    frist_number = int(input(\"Enter your frist number. \"))\n",
        "    second_number = int(input(\"Enter your second number. \"))\n",
        "    total = int(frist_number + second_number)\n",
        "    print(f'The total sum of {frist_number} and {second_number}is {total}')\n",
        "\n",
        "if __name__ == '__main__':\n",
        "    add()"
      ],
      "cell_type": "code",
      "metadata": {
        "colab": {
          "base_uri": "https://localhost:8080/"
        },
        "id": "sK8yySoMLZ4Z",
        "outputId": "2023d705-0b86-4f76-e18b-39cfe1fd6725"
      },
      "execution_count": null,
      "outputs": [
        {
          "output_type": "stream",
          "name": "stdout",
          "text": [
            "01_add_two_numbers.md\n",
            "This application for add two numbers\n",
            "Enter your frist number5\n",
            "Enter your second number8\n",
            "The total sum of 5and8is 13\n"
          ]
        }
      ]
    },
    {
      "cell_type": "code",
      "source": [
        "print(\"03_convert_fahrenheit_to_celsius\")\n",
        "def temp():\n",
        "  print(\"This for converting fahrenheit to celsius\")\n",
        "  fahrenheit_degree = float(input(\"Enter your fahrenheit degree. \"))\n",
        "  celsius_degree = (fahrenheit_degree - 32) * 5.0/9.0\n",
        "  print(f'Temperature {fahrenheit_degree} f = {celsius_degree} c')\n",
        "\n",
        "if __name__ == \"__main__\":\n",
        "\n",
        "    temp()\n",
        "\n",
        "\n",
        "\n"
      ],
      "metadata": {
        "id": "H_OCViOwfQkd",
        "colab": {
          "base_uri": "https://localhost:8080/"
        },
        "outputId": "c6866fbf-d11c-4ad2-c8a7-d379c5b921ba"
      },
      "execution_count": null,
      "outputs": [
        {
          "output_type": "stream",
          "name": "stdout",
          "text": [
            "03_convert_fahrenheit_to_celsius\n",
            "This for converting fahrenheit to celsius\n",
            "Enter your fahrenheit degree. 67\n",
            "Temperature 67.0 f = 19.444444444444443 c\n"
          ]
        }
      ]
    },
    {
      "cell_type": "code",
      "source": [
        "print(\"06_square_number\")\n",
        "def square():\n",
        "    print(\"This code is about square of given number\")\n",
        "    num1 = int(input(\"Enter any number and i will give u a square value. \"))\n",
        "    print(f'The square of {num1} is {num1 ** 2}')\n",
        "\n",
        "if __name__ == \"__main__\":\n",
        "    square()\n"
      ],
      "metadata": {
        "colab": {
          "base_uri": "https://localhost:8080/"
        },
        "id": "o5wtQG_EGvpJ",
        "outputId": "280b5ca0-6f02-484b-96db-9d7e46f0d5d8"
      },
      "execution_count": null,
      "outputs": [
        {
          "output_type": "stream",
          "name": "stdout",
          "text": [
            "06_square_number\n",
            "This code is about square of given number\n",
            "Enter any number and i will give u a square value. 5\n",
            "The square of 5 is 25\n"
          ]
        }
      ]
    },
    {
      "cell_type": "code",
      "source": [],
      "metadata": {
        "id": "aLZwJc5rupuE"
      },
      "execution_count": null,
      "outputs": []
    }
  ]
}