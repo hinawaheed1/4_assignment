{
  "nbformat": 4,
  "nbformat_minor": 0,
  "metadata": {
    "colab": {
      "provenance": [],
      "authorship_tag": "ABX9TyPD3EHVT30D8eSxBrW27rKy",
      "include_colab_link": true
    },
    "kernelspec": {
      "name": "python3",
      "display_name": "Python 3"
    },
    "language_info": {
      "name": "python"
    }
  },
  "cells": [
    {
      "cell_type": "markdown",
      "metadata": {
        "id": "view-in-github",
        "colab_type": "text"
      },
      "source": [
        "<a href=\"https://colab.research.google.com/github/hinawaheed1/4_assignment/blob/main/02_lists.ipynb\" target=\"_parent\"><img src=\"https://colab.research.google.com/assets/colab-badge.svg\" alt=\"Open In Colab\"/></a>"
      ]
    },
    {
      "cell_type": "code",
      "execution_count": null,
      "metadata": {
        "colab": {
          "base_uri": "https://localhost:8080/"
        },
        "id": "6T7UCayqSYMY",
        "outputId": "6b6c41b7-e6dc-4bcf-f8f9-362806e72e5a"
      },
      "outputs": [
        {
          "output_type": "stream",
          "name": "stdout",
          "text": [
            "01_add_many_number\n",
            "15\n"
          ]
        }
      ],
      "source": [
        "print(\"01_add_many_number\")\n",
        "\n",
        "def add_number(numbers)->int:\n",
        "   num:int = 0\n",
        "   for i in numbers:\n",
        "    num += i\n",
        "   return num\n",
        "\n",
        "def main():\n",
        "      numbers:list[int] = [1,2,3,4,5,]\n",
        "      sum = add_number(numbers)\n",
        "      print(sum)\n",
        "if __name__ == \"__main__\":\n",
        "     main()"
      ]
    },
    {
      "cell_type": "code",
      "source": [
        "print(\"02_double_list\")\n",
        "\n",
        "def main():\n",
        "    numbers: list[int] = [1, 2, 3, 4, 5]\n",
        "    for i in range(len(numbers)):\n",
        "        index = numbers[i]\n",
        "        numbers[i] = index * 2\n",
        "    print(numbers)\n",
        "\n",
        "if __name__ == \"__main__\":\n",
        "    main()\n"
      ],
      "metadata": {
        "colab": {
          "base_uri": "https://localhost:8080/"
        },
        "id": "dCo80RzTwek6",
        "outputId": "7be60867-b48d-4378-dae8-3c2bd0e84f18"
      },
      "execution_count": 13,
      "outputs": [
        {
          "output_type": "stream",
          "name": "stdout",
          "text": [
            "02_double_list\n",
            "[2, 4, 6, 8, 10]\n"
          ]
        }
      ]
    },
    {
      "cell_type": "code",
      "source": [
        "print(\"04_flowing_with_data_structures\")\n",
        "def add_three_coples(list,data):\n",
        " for i in range(3):\n",
        "  list.append(data)\n",
        "\n",
        "def main():\n",
        "  message = input(\"Enter a message to copy.\")\n",
        "  list = []\n",
        "  print(\"Before list:\",)\n",
        "  add_three_coples(list,message)\n",
        "  print(\"After list:\",list)\n",
        "\n",
        "if __name__ == \"__main__\":\n",
        "  main()\n"
      ],
      "metadata": {
        "colab": {
          "base_uri": "https://localhost:8080/"
        },
        "id": "rkBXzFeKDtPu",
        "outputId": "6e0c8ddf-c3c7-4fc9-8512-f4a4fc80c4e3"
      },
      "execution_count": null,
      "outputs": [
        {
          "output_type": "stream",
          "name": "stdout",
          "text": [
            "04_flowing_with_data_structures\n",
            "Enter a message to copy.hello pakistan\n",
            "Before list:\n",
            "After list: ['hello pakistan', 'hello pakistan', 'hello pakistan']\n"
          ]
        }
      ]
    },
    {
      "cell_type": "code",
      "source": [
        "print(\"05_get_first_element\")\n",
        "\n",
        "def get_first_element(lst):\n",
        "    print(lst[0])\n",
        "\n",
        "def get_lst():\n",
        "    lst = []\n",
        "    elem = input(\"Enter an element to add to the list: \")\n",
        "    while elem != \"\":\n",
        "        lst.append(elem)\n",
        "        elem = input(\"Enter an element to add to the list: \")\n",
        "    return lst\n",
        "\n",
        "def main():\n",
        "    lst = get_lst()\n",
        "    get_first_element(lst)\n",
        "\n",
        "if __name__ == \"__main__\":\n",
        "  main()\n"
      ],
      "metadata": {
        "colab": {
          "base_uri": "https://localhost:8080/"
        },
        "id": "Uc5DFl8cT321",
        "outputId": "d4a89d6a-ff91-418d-bd64-ffdb9721da72"
      },
      "execution_count": 11,
      "outputs": [
        {
          "output_type": "stream",
          "name": "stdout",
          "text": [
            "05_get_first_element\n",
            "Enter an element to add to the list: a\n",
            "Enter an element to add to the list: b\n",
            "Enter an element to add to the list: c\n",
            "Enter an element to add to the list: d\n",
            "Enter an element to add to the list: e\n",
            "Enter an element to add to the list: f\n",
            "Enter an element to add to the list: \n",
            "a\n"
          ]
        }
      ]
    },
    {
      "cell_type": "code",
      "source": [
        "print(\"06_get_last_element\")\n",
        "\n",
        "def get_last_element(lst):\n",
        "    print(lst[-1])\n",
        "\n",
        "def get_lst():\n",
        "    lst = []\n",
        "    elem = input(\"Enter an element to add to the list: \")\n",
        "    while elem != \"\":\n",
        "        lst.append(elem)\n",
        "        elem = input(\"Enter an element to add to the list: \")\n",
        "    return lst\n",
        "\n",
        "def main():\n",
        "    lst = get_lst()\n",
        "    get_last_element(lst)\n",
        "\n",
        "if __name__ == \"__main__\":\n",
        "    main()\n",
        "\n",
        "\n"
      ],
      "metadata": {
        "colab": {
          "base_uri": "https://localhost:8080/"
        },
        "id": "h-PMA7XZK8pO",
        "outputId": "c032d194-88b5-4fec-f1cc-2ecd05f853f2"
      },
      "execution_count": 10,
      "outputs": [
        {
          "output_type": "stream",
          "name": "stdout",
          "text": [
            "06_get_last_element\n",
            "Enter an element to add to the list: a\n",
            "Enter an element to add to the list: r\n",
            "Enter an element to add to the list: k\n",
            "Enter an element to add to the list: m\n",
            "Enter an element to add to the list: n\n",
            "Enter an element to add to the list: o\n",
            "Enter an element to add to the list: \n",
            "o\n"
          ]
        }
      ]
    },
    {
      "cell_type": "code",
      "source": [
        "print(\"07_get_list\")\n",
        "\n",
        "def main():\n",
        "    lst = []\n",
        "    val = input(\"Enter a value to add to the list: \")\n",
        "    while val:\n",
        "        lst.append(val)\n",
        "        val = input(\"Enter a value to add to the list: \")\n",
        "    print(\"Here's the list:\", lst)\n",
        "\n",
        "if __name__ == \"__main__\":\n",
        "    main()"
      ],
      "metadata": {
        "colab": {
          "base_uri": "https://localhost:8080/"
        },
        "id": "CdpYY2EF50MT",
        "outputId": "c89c57e4-d700-44a7-a599-0b2e447f9d99"
      },
      "execution_count": 7,
      "outputs": [
        {
          "output_type": "stream",
          "name": "stdout",
          "text": [
            "07_get_list\n",
            "Enter a value to add to the list: amber\n",
            "Enter a value to add to the list: nadeya\n",
            "Enter a value to add to the list: sumera\n",
            "Enter a value to add to the list: hena\n",
            "Enter a value to add to the list: irfan\n",
            "Enter a value to add to the list: zain\n",
            "Enter a value to add to the list: \n",
            "Here's the list: ['amber', 'nadeya', 'sumera', 'hena', 'irfan', 'zain']\n"
          ]
        }
      ]
    },
    {
      "cell_type": "code",
      "source": [
        "print(\"08_shorten\")\n",
        "\n",
        "MAX_LENGTH = 3\n",
        "\n",
        "def shorten(lst):\n",
        "    while len(lst) > MAX_LENGTH:\n",
        "        lst.pop()\n",
        "    return lst\n",
        "\n",
        "def get_lst():\n",
        "    lst = []\n",
        "    element = input(\"Enter an element to add to the list: \")\n",
        "    while element != \"\":\n",
        "        lst.append(element)\n",
        "        element = input(\"Enter an element to add to the list: \")\n",
        "    return lst\n",
        "\n",
        "def main():\n",
        "    lst = get_lst()\n",
        "    lst = shorten(lst)\n",
        "    print(\".\".join(lst) + \".\")\n",
        "\n",
        "if __name__ == \"__main__\":\n",
        "    main()\n"
      ],
      "metadata": {
        "colab": {
          "base_uri": "https://localhost:8080/"
        },
        "id": "pY31S-MC9pQp",
        "outputId": "a9fdb78b-2e43-42ed-89dc-5073e4771e02"
      },
      "execution_count": 8,
      "outputs": [
        {
          "output_type": "stream",
          "name": "stdout",
          "text": [
            "08_shorten\n",
            "Enter an element to add to the list: fgo\n",
            "Enter an element to add to the list: uio\n",
            "Enter an element to add to the list: gtr\n",
            "Enter an element to add to the list: krm\n",
            "Enter an element to add to the list: \n",
            "fgo.uio.gtr.\n"
          ]
        }
      ]
    }
  ]
}