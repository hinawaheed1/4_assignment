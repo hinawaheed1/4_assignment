{
  "nbformat": 4,
  "nbformat_minor": 0,
  "metadata": {
    "colab": {
      "provenance": [],
      "history_visible": true,
      "authorship_tag": "ABX9TyMxjLUfQr+jHSLteAQT2DIm",
      "include_colab_link": true
    },
    "kernelspec": {
      "name": "python3",
      "display_name": "Python 3"
    },
    "language_info": {
      "name": "python"
    }
  },
  "cells": [
    {
      "cell_type": "markdown",
      "metadata": {
        "id": "view-in-github",
        "colab_type": "text"
      },
      "source": [
        "<a href=\"https://colab.research.google.com/github/hinawaheed1/4_assignment/blob/main/01_expressions_.ipynb\" target=\"_parent\"><img src=\"https://colab.research.google.com/assets/colab-badge.svg\" alt=\"Open In Colab\"/></a>"
      ]
    },
    {
      "cell_type": "code",
      "execution_count": null,
      "metadata": {
        "colab": {
          "base_uri": "https://localhost:8080/"
        },
        "id": "_Wx9b7G7PPeY",
        "outputId": "db657dfb-d723-480e-c7f4-8eb1f4524376"
      },
      "outputs": [
        {
          "output_type": "stream",
          "name": "stdout",
          "text": [
            "01_dicesimulator\n",
            "die1 in main() start as: 10\n",
            "total of two dies: 12\n",
            "total of two dies: 2\n",
            "total of two dies: 8\n",
            "die1 in main() is:10\n"
          ]
        }
      ],
      "source": [
        "import random\n",
        "print(\"01_dicesimulator\")\n",
        "\n",
        "def roll_dice():\n",
        "    die1:int = random.randint(1,6)\n",
        "    die2:int = random.randint(1,6)\n",
        "    totall:int = die1 + die2\n",
        "    print(f'total of two dies: {totall}')\n",
        "\n",
        "def main():\n",
        "      die1:int = 10\n",
        "      print(\"die1 in main() start as: \" + str(die1))\n",
        "      roll_dice()\n",
        "      roll_dice()\n",
        "      roll_dice()\n",
        "      print(\"die1 in main() is:\" + str(die1))\n",
        "\n",
        "if  __name__ == \"__main__\":\n",
        "        main()\n",
        "\n"
      ]
    },
    {
      "cell_type": "code",
      "source": [
        "print(\"02_e=mc2\")\n",
        "def energy():\n",
        "  c:float = 299792458\n",
        "  m:float = float(input(\"Enter kilos of mass:\"))\n",
        "  print(\"e = m*c^2\")\n",
        "  print(\"Mass =\" + str(m) + \" kg\")\n",
        "  print(\"c =\" + str(c) + \" m/s\")\n",
        "  print(\"e =\" + str( m* c ** 2) + \" jules\")\n",
        "\n",
        "if  __name__ == \"__main__\":\n",
        "        energy()"
      ],
      "metadata": {
        "id": "I2r8Y8D52Ske",
        "colab": {
          "base_uri": "https://localhost:8080/"
        },
        "outputId": "942db0a2-6063-4d35-8ddd-d09911af51a1"
      },
      "execution_count": null,
      "outputs": [
        {
          "output_type": "stream",
          "name": "stdout",
          "text": [
            "02_e=mc2\n",
            "Enter kilos of mass:450\n",
            "e = m*c^2\n",
            "Mass =450.0 kg\n",
            "c =299792458 m/s\n",
            "e =4.0443983043156795e+19 jules\n"
          ]
        }
      ]
    },
    {
      "cell_type": "code",
      "source": [
        "print(\"03_feet_to_inches.\")\n",
        "inch: int = 12\n",
        "def foot():\n",
        "  feet:int = int(input(\"inter feet and i will convert into inches.\"))\n",
        "  print(f'There are {inch * feet}inches in {feet} feet.')\n",
        "if  __name__ == \"__main__\":\n",
        "  foot()"
      ],
      "metadata": {
        "colab": {
          "base_uri": "https://localhost:8080/"
        },
        "id": "ZsmyW2gjYLDq",
        "outputId": "bc7efe82-b94c-4d31-a280-8b2dae421096"
      },
      "execution_count": null,
      "outputs": [
        {
          "output_type": "stream",
          "name": "stdout",
          "text": [
            "03_feet_to_inches.\n",
            "inter feet and i will convert into inches.45\n",
            "There are 540inches in 45 feet.\n"
          ]
        }
      ]
    },
    {
      "cell_type": "code",
      "source": [
        "import math\n",
        "print(\"04_pythagorean_theorem\")\n",
        "def triangle():\n",
        "  ab:float = float(input(\"Enter the length of the side ab. \"))\n",
        "  ac:float = float(input(\"Enter the length of the side ac. \"))\n",
        "  bc:float = math.sqrt(ab**2 + ac**2)\n",
        "  print(f'The length of bc (the hypothenuse is : {bc})')\n",
        "if  __name__ == \"__main__\":\n",
        "  triangle()"
      ],
      "metadata": {
        "colab": {
          "base_uri": "https://localhost:8080/"
        },
        "id": "i9L14C-ib9H_",
        "outputId": "12287574-eef7-49ab-b37c-5c5f9e97a2d9"
      },
      "execution_count": null,
      "outputs": [
        {
          "output_type": "stream",
          "name": "stdout",
          "text": [
            "04_pythagorean_theorem\n",
            "Enter the length of the side ab. 4\n",
            "Enter the length of the side ac. 6.8\n",
            "The length of bc (the hypothenuse is : 7.889233169326408)\n"
          ]
        }
      ]
    },
    {
      "cell_type": "code",
      "source": [
        "print(\"05_remainder_division\")\n",
        "def remainder():\n",
        "  num1:int = int(input(\"Enter an integer to be divided: \"))\n",
        "  num2:int = int(input(\"Enter an integer to divide by: \"))\n",
        "  quoitlent:int = num1 // num2\n",
        "  remainder:int = num1 % num2\n",
        "  print(f'The result of following division is {quoitlent} with the remainder of {remainder}')\n",
        "if  __name__ == \"__main__\":\n",
        "  remainder()\n",
        "\n",
        "\n"
      ],
      "metadata": {
        "colab": {
          "base_uri": "https://localhost:8080/"
        },
        "id": "GO_JyQC7iVZS",
        "outputId": "1e592826-9ac2-40da-e166-4861c050ade6"
      },
      "execution_count": null,
      "outputs": [
        {
          "output_type": "stream",
          "name": "stdout",
          "text": [
            "05_remainder_division\n",
            "Enter an integer to be divided: 45\n",
            "Enter an integer to divide by: 2\n",
            "The result of following division is 22 with the remainder of 1\n"
          ]
        }
      ]
    },
    {
      "cell_type": "code",
      "source": [
        "import random\n",
        "print(\"06_rolldice.\")\n",
        "def dice():\n",
        "  die1:int= random.randint(1,6)\n",
        "  die2:int = random.randint(1,6)\n",
        "  total:int = int(die1 + die2)\n",
        "  print(\"First die:\" + str(die1))\n",
        "  print(\"Second die:\" + str(die2))\n",
        "  print(f'Total of two dies : {total}')\n",
        "\n",
        "if  __name__ == \"__main__\":\n",
        "  dice()"
      ],
      "metadata": {
        "colab": {
          "base_uri": "https://localhost:8080/"
        },
        "id": "0TQZsQzHnoKY",
        "outputId": "9753284a-5987-41e2-c5cc-65c5bd5dae10"
      },
      "execution_count": 1,
      "outputs": [
        {
          "output_type": "stream",
          "name": "stdout",
          "text": [
            "06_rolldice.\n",
            "First die:2\n",
            "Second die:3\n",
            "Total of two dies : 5\n"
          ]
        }
      ]
    },
    {
      "cell_type": "code",
      "source": [
        "print(\"06_seconds_in_year\")\n",
        "days_in_year:int=365\n",
        "hours_per_day:int=24\n",
        "minutes_per_hour:int=60\n",
        "seconds_per_minutes:int=60\n",
        "\n",
        "def seconds():\n",
        "  print(f\"There are {days_in_year * hours_per_day * minutes_per_hour * seconds_per_minutes} seconds in a year!\")\n",
        "\n",
        "if  __name__ == \"__main__\":\n",
        "  seconds()\n",
        "\n"
      ],
      "metadata": {
        "colab": {
          "base_uri": "https://localhost:8080/"
        },
        "id": "9j_6f_KvX7Sv",
        "outputId": "7e84c76c-b29a-492f-98a3-1b4194ec7ea6"
      },
      "execution_count": 7,
      "outputs": [
        {
          "output_type": "stream",
          "name": "stdout",
          "text": [
            "06_seconds_in_year\n",
            "There are 31536000 seconds in a year!\n"
          ]
        }
      ]
    },
    {
      "cell_type": "code",
      "source": [
        "print(\"07_tiny_mad_lib\")\n",
        "def mad_lib():\n",
        "  noun:str = str(input(\"Enter a noun: \"))\n",
        "  adjective:str = str(input(\"Enter an adjective: \"))\n",
        "  verb:str = str(input(\"Enter a verb: \"))\n",
        "  print(f\"Do you {verb} your {adjective} {noun} ?\")\n",
        "\n",
        "if  __name__ == \"__main__\":\n",
        "    mad_lib()"
      ],
      "metadata": {
        "colab": {
          "base_uri": "https://localhost:8080/"
        },
        "id": "o1JuZ8sniP1k",
        "outputId": "e23c49a3-6d50-4708-b6f1-9c9a35de1cb0"
      },
      "execution_count": 13,
      "outputs": [
        {
          "output_type": "stream",
          "name": "stdout",
          "text": [
            "07_tiny_mad_lib\n",
            "Enter a noun: cat\n",
            "Enter an adjective: cut\n",
            "Enter a verb: sleep\n",
            "Do you sleep your cut cat ?\n"
          ]
        }
      ]
    }
  ]
}